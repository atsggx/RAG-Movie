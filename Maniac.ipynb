{
  "nbformat": 4,
  "nbformat_minor": 0,
  "metadata": {
    "colab": {
      "provenance": [],
      "gpuType": "T4"
    },
    "kernelspec": {
      "name": "python3",
      "display_name": "Python 3"
    },
    "language_info": {
      "name": "python"
    },
    "accelerator": "GPU"
  },
  "cells": [
    {
      "cell_type": "code",
      "execution_count": null,
      "metadata": {
        "id": "fUVWUreDeqPZ"
      },
      "outputs": [],
      "source": [
        "# Install required libraries\n",
        "!pip install openai > /dev/null 2>&1 || echo \"Error: Installation failed\"\n",
        "!pip install langchain langchain_community > /dev/null 2>&1 || echo \"Error: Installation failed\"\n",
        "!pip install --upgrade --quiet langchain langchainhub\n",
        "!pip install faiss-cpu > /dev/null 2>&1 || echo \"Error: Installation failed\"\n",
        "!pip install tiktoken > /dev/null 2>&1 || echo \"Error: Installation failed\"\n",
        "!pip install pandas > /dev/null 2>&1 || echo \"Error: Installation failed\""
      ]
    },
    {
      "cell_type": "code",
      "source": [
        "import warnings\n",
        "\n",
        "# Filter out any warnings\n",
        "warnings.filterwarnings(\"ignore\")"
      ],
      "metadata": {
        "id": "bn4wF-FSevhT"
      },
      "execution_count": null,
      "outputs": []
    },
    {
      "cell_type": "code",
      "source": [
        "import textwrap\n",
        "from IPython.display import display, Markdown\n",
        "import pandas as pd\n",
        "\n",
        "def display_response(response, width=80):\n",
        "    \"\"\"\n",
        "    Display the AI response in a readable format, preserving original line breaks.\n",
        "\n",
        "    Args:\n",
        "    response (str): The text response from the AI.\n",
        "    width (int): The maximum width of each line before wrapping.\n",
        "    \"\"\"\n",
        "    # Split the response into lines\n",
        "    lines = response.split('\\n')\n",
        "\n",
        "    # Wrap each line individually\n",
        "    wrapped_lines = []\n",
        "    for line in lines:\n",
        "        if line.strip() == '':\n",
        "            wrapped_lines.append('')\n",
        "        else:\n",
        "            wrapped_lines.extend(textwrap.wrap(line, width=width))\n",
        "\n",
        "    # Join the wrapped lines\n",
        "    wrapped_text = '\\n'.join(wrapped_lines)\n",
        "\n",
        "    # Add markdown formatting\n",
        "    formatted_text = f\"```\\n{wrapped_text}\\n```\"\n",
        "    #formatted_text = f\"\\n{wrapped_text}\\n\"\n",
        "\n",
        "    # Display as markdown\n",
        "    display(Markdown(formatted_text))\n",
        "\n",
        "def display_input_output(input, output):\n",
        "  print(\"Prompt:\\n\")\n",
        "  display_response(input)\n",
        "  print(\"\\nResponse:\\n\")\n",
        "  display_response(output)"
      ],
      "metadata": {
        "id": "er7BZc7YexQd"
      },
      "execution_count": null,
      "outputs": []
    },
    {
      "cell_type": "code",
      "source": [
        "import openai\n",
        "\n",
        "# Set up OpenAI API key securely\n",
        "from google.colab import userdata\n",
        "\n",
        "# Securely get the API key\n",
        "OPENAI_API_KEY = userdata.get(\"OPENAI_API_KEY\")\n",
        "\n",
        "# Ensure the API key is set\n",
        "if OPENAI_API_KEY is None:\n",
        "    raise ValueError(\"Please set the OPENAI_API_KEY in Colab's Secrets (under Tools > Settings > Secrets)\")\n",
        "\n",
        "# Set the API key for OpenAI\n",
        "openai.api_key = OPENAI_API_KEY"
      ],
      "metadata": {
        "id": "gF9WgU0he3kY"
      },
      "execution_count": null,
      "outputs": []
    },
    {
      "cell_type": "code",
      "source": [
        "# import necessary libraries\n",
        "\n",
        "from langchain.embeddings import OpenAIEmbeddings\n",
        "from langchain.vectorstores import FAISS\n",
        "from langchain.chains import RetrievalQA\n",
        "from langchain.chat_models import ChatOpenAI\n",
        "from langchain.prompts import PromptTemplate"
      ],
      "metadata": {
        "id": "XPTrGhydlwid"
      },
      "execution_count": null,
      "outputs": []
    },
    {
      "cell_type": "code",
      "source": [
        "# Load the CSV\n",
        "csv_path = '/content/movies.csv'\n",
        "df = pd.read_csv(csv_path)"
      ],
      "metadata": {
        "id": "FwTBlCLEl6H8"
      },
      "execution_count": null,
      "outputs": []
    },
    {
      "cell_type": "code",
      "source": [
        "print(\"First 5 records:\", df.head())"
      ],
      "metadata": {
        "id": "k8EUdGK-pVYz",
        "colab": {
          "base_uri": "https://localhost:8080/"
        },
        "outputId": "2fc296b8-102c-4b7c-fa5c-2b3126f401d8"
      },
      "execution_count": null,
      "outputs": [
        {
          "output_type": "stream",
          "name": "stdout",
          "text": [
            "First 5 records:                                              name rating      genre  year  \\\n",
            "0                                     The Shining      R      Drama  1980   \n",
            "1                                 The Blue Lagoon      R  Adventure  1980   \n",
            "2  Star Wars: Episode V - The Empire Strikes Back     PG     Action  1980   \n",
            "3                                       Airplane!     PG     Comedy  1980   \n",
            "4                                      Caddyshack      R     Comedy  1980   \n",
            "\n",
            "                        released  score    votes         director  \\\n",
            "0  June 13, 1980 (United States)    8.4   927000  Stanley Kubrick   \n",
            "1   July 2, 1980 (United States)    5.8    65000   Randal Kleiser   \n",
            "2  June 20, 1980 (United States)    8.7  1200000   Irvin Kershner   \n",
            "3   July 2, 1980 (United States)    7.7   221000     Jim Abrahams   \n",
            "4  July 25, 1980 (United States)    7.3   108000     Harold Ramis   \n",
            "\n",
            "                    writer            star         country    budget  \\\n",
            "0             Stephen King  Jack Nicholson  United Kingdom  19000000   \n",
            "1  Henry De Vere Stacpoole  Brooke Shields   United States   4500000   \n",
            "2           Leigh Brackett     Mark Hamill   United States  18000000   \n",
            "3             Jim Abrahams     Robert Hays   United States   3500000   \n",
            "4       Brian Doyle-Murray     Chevy Chase   United States   6000000   \n",
            "\n",
            "         gross             company runtime,,  \n",
            "0   46998772.0        Warner Bros.    146.0,  \n",
            "1   58853106.0   Columbia Pictures    104.0,  \n",
            "2  538375067.0           Lucasfilm    124.0,  \n",
            "3   83453539.0  Paramount Pictures     88.0,  \n",
            "4   39846344.0      Orion Pictures     98.0,  \n"
          ]
        }
      ]
    },
    {
      "cell_type": "code",
      "source": [
        "from langchain.docstore.document import Document\n",
        "documents = []\n",
        "for index, row in df.iterrows():\n",
        "    content = f\"\"\"\n",
        "    Name: {row['name']}\n",
        "    Rating: {row['rating']}\n",
        "    Genre: {row['genre']}\n",
        "    Year: {row['year']}\n",
        "    Released: {row['released']}\n",
        "    Score: {row['score']}\n",
        "    Votes: {row['votes']}\n",
        "    Director: {row['director']}\n",
        "    Writer: {row['writer']}\n",
        "    Star: {row['star']}\n",
        "    \"\"\"\n",
        "    metadata = {\"source\": csv_path, \"row\": index, \"name\": row['name']} # Include 'name' in metadata\n",
        "    doc = Document(page_content=content, metadata=metadata)\n",
        "    documents.append(doc)"
      ],
      "metadata": {
        "id": "uZDwa5-RnRUt"
      },
      "execution_count": null,
      "outputs": []
    },
    {
      "cell_type": "code",
      "source": [
        "# Convert documents to embeddings\n",
        "embeddings = OpenAIEmbeddings(openai_api_key=OPENAI_API_KEY) # You may need to provide an API key here\n",
        "vector_store = FAISS.from_documents(documents, embeddings)"
      ],
      "metadata": {
        "id": "EEOgtP1pmWwL"
      },
      "execution_count": null,
      "outputs": []
    },
    {
      "cell_type": "code",
      "source": [
        "# Create a retriever\n",
        "retriever = vector_store.as_retriever()"
      ],
      "metadata": {
        "id": "E4ZDxrQWnGzO"
      },
      "execution_count": null,
      "outputs": []
    },
    {
      "cell_type": "code",
      "source": [
        "llm = ChatOpenAI(model=\"gpt-4o-mini\", temperature=0.1, openai_api_key=OPENAI_API_KEY) # We are using gpt-4o-mini"
      ],
      "metadata": {
        "id": "PbHLdORNnT_N"
      },
      "execution_count": null,
      "outputs": []
    },
    {
      "cell_type": "code",
      "source": [
        "# Define the RAG system\n",
        "rag_chain = RetrievalQA.from_chain_type(llm=llm, chain_type=\"stuff\", retriever=retriever)"
      ],
      "metadata": {
        "id": "4Dva1bTUnKEN"
      },
      "execution_count": null,
      "outputs": []
    },
    {
      "cell_type": "code",
      "source": [
        "# Example query\n",
        "query = \"Who directed The Shawshank Redemption?\"\n",
        "display_response(rag_chain.run(query))"
      ],
      "metadata": {
        "id": "T4I63rC5nyrh",
        "colab": {
          "base_uri": "https://localhost:8080/",
          "height": 34
        },
        "outputId": "210d782f-174c-4948-dc5e-6d42210be569"
      },
      "execution_count": null,
      "outputs": [
        {
          "output_type": "display_data",
          "data": {
            "text/plain": [
              "<IPython.core.display.Markdown object>"
            ],
            "text/markdown": "```\nThe Shawshank Redemption was directed by Frank Darabont.\n```"
          },
          "metadata": {}
        }
      ]
    }
  ]
}